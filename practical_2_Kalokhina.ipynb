{
  "nbformat": 4,
  "nbformat_minor": 0,
  "metadata": {
    "colab": {
      "provenance": [],
      "include_colab_link": true
    },
    "kernelspec": {
      "name": "python3",
      "display_name": "Python 3"
    },
    "language_info": {
      "name": "python"
    }
  },
  "cells": [
    {
      "cell_type": "markdown",
      "metadata": {
        "id": "view-in-github",
        "colab_type": "text"
      },
      "source": [
        "<a href=\"https://colab.research.google.com/github/mkalokhina/practical_2_Kalokhina_Marharyta/blob/main/practical_2_Kalokhina.ipynb\" target=\"_parent\"><img src=\"https://colab.research.google.com/assets/colab-badge.svg\" alt=\"Open In Colab\"/></a>"
      ]
    },
    {
      "cell_type": "markdown",
      "source": [
        "Зчитати датасет ВВП(млню долю США) за країнами з Вікіпедії за посиланням (https://en.wikipedia.org/wiki/List_of_countries_by_GDP_(nominal))\n"
      ],
      "metadata": {
        "id": "F8w5ILF4tYyW"
      }
    },
    {
      "cell_type": "code",
      "source": [
        "import pandas as pd"
      ],
      "metadata": {
        "id": "p-F2RVpjtnTQ"
      },
      "execution_count": null,
      "outputs": []
    },
    {
      "cell_type": "code",
      "source": [
        "import numpy as np\n",
        "import matplotlib.pyplot as plt"
      ],
      "metadata": {
        "id": "iCXsUmK3Xcu2"
      },
      "execution_count": null,
      "outputs": []
    },
    {
      "cell_type": "code",
      "source": [
        "url = \"https://en.wikipedia.org/wiki/List_of_countries_by_GDP_(nominal)\"\n",
        "tables = pd.read_html(url)\n",
        "gdp_df = tables[2]\n"
      ],
      "metadata": {
        "id": "RA0_aVTdWMbN"
      },
      "execution_count": null,
      "outputs": []
    },
    {
      "cell_type": "markdown",
      "source": [
        "Вивести 5 рядків дватасета"
      ],
      "metadata": {
        "id": "lj6SLZqJboXh"
      }
    },
    {
      "cell_type": "code",
      "source": [
        "gdp_df.head()"
      ],
      "metadata": {
        "colab": {
          "base_uri": "https://localhost:8080/",
          "height": 237
        },
        "id": "HcicyJ0BXig2",
        "outputId": "6a67c951-fb07-47fc-a753-204a4c4b68c9"
      },
      "execution_count": null,
      "outputs": [
        {
          "output_type": "execute_result",
          "data": {
            "text/plain": [
              "  Country/Territory IMF[1][13]            World Bank[14]             \\\n",
              "  Country/Territory   Forecast       Year       Estimate       Year   \n",
              "0             World  109529216       2024      105435540       2023   \n",
              "1     United States   28781083       2024       27360935       2023   \n",
              "2             China   18532633  [n 1]2024       17794782  [n 3]2023   \n",
              "3           Germany    4591100       2024        4456081       2023   \n",
              "4             Japan    4110452       2024        4212945       2023   \n",
              "\n",
              "  United Nations[15]             \n",
              "            Estimate       Year  \n",
              "0          100834796       2022  \n",
              "1           25744100       2022  \n",
              "2           17963170  [n 1]2022  \n",
              "3            4076923       2022  \n",
              "4            4232173       2022  "
            ],
            "text/html": [
              "\n",
              "  <div id=\"df-199d2b10-8d27-4b6c-aaa9-1fb36b488391\" class=\"colab-df-container\">\n",
              "    <div>\n",
              "<style scoped>\n",
              "    .dataframe tbody tr th:only-of-type {\n",
              "        vertical-align: middle;\n",
              "    }\n",
              "\n",
              "    .dataframe tbody tr th {\n",
              "        vertical-align: top;\n",
              "    }\n",
              "\n",
              "    .dataframe thead tr th {\n",
              "        text-align: left;\n",
              "    }\n",
              "</style>\n",
              "<table border=\"1\" class=\"dataframe\">\n",
              "  <thead>\n",
              "    <tr>\n",
              "      <th></th>\n",
              "      <th>Country/Territory</th>\n",
              "      <th colspan=\"2\" halign=\"left\">IMF[1][13]</th>\n",
              "      <th colspan=\"2\" halign=\"left\">World Bank[14]</th>\n",
              "      <th colspan=\"2\" halign=\"left\">United Nations[15]</th>\n",
              "    </tr>\n",
              "    <tr>\n",
              "      <th></th>\n",
              "      <th>Country/Territory</th>\n",
              "      <th>Forecast</th>\n",
              "      <th>Year</th>\n",
              "      <th>Estimate</th>\n",
              "      <th>Year</th>\n",
              "      <th>Estimate</th>\n",
              "      <th>Year</th>\n",
              "    </tr>\n",
              "  </thead>\n",
              "  <tbody>\n",
              "    <tr>\n",
              "      <th>0</th>\n",
              "      <td>World</td>\n",
              "      <td>109529216</td>\n",
              "      <td>2024</td>\n",
              "      <td>105435540</td>\n",
              "      <td>2023</td>\n",
              "      <td>100834796</td>\n",
              "      <td>2022</td>\n",
              "    </tr>\n",
              "    <tr>\n",
              "      <th>1</th>\n",
              "      <td>United States</td>\n",
              "      <td>28781083</td>\n",
              "      <td>2024</td>\n",
              "      <td>27360935</td>\n",
              "      <td>2023</td>\n",
              "      <td>25744100</td>\n",
              "      <td>2022</td>\n",
              "    </tr>\n",
              "    <tr>\n",
              "      <th>2</th>\n",
              "      <td>China</td>\n",
              "      <td>18532633</td>\n",
              "      <td>[n 1]2024</td>\n",
              "      <td>17794782</td>\n",
              "      <td>[n 3]2023</td>\n",
              "      <td>17963170</td>\n",
              "      <td>[n 1]2022</td>\n",
              "    </tr>\n",
              "    <tr>\n",
              "      <th>3</th>\n",
              "      <td>Germany</td>\n",
              "      <td>4591100</td>\n",
              "      <td>2024</td>\n",
              "      <td>4456081</td>\n",
              "      <td>2023</td>\n",
              "      <td>4076923</td>\n",
              "      <td>2022</td>\n",
              "    </tr>\n",
              "    <tr>\n",
              "      <th>4</th>\n",
              "      <td>Japan</td>\n",
              "      <td>4110452</td>\n",
              "      <td>2024</td>\n",
              "      <td>4212945</td>\n",
              "      <td>2023</td>\n",
              "      <td>4232173</td>\n",
              "      <td>2022</td>\n",
              "    </tr>\n",
              "  </tbody>\n",
              "</table>\n",
              "</div>\n",
              "    <div class=\"colab-df-buttons\">\n",
              "\n",
              "  <div class=\"colab-df-container\">\n",
              "    <button class=\"colab-df-convert\" onclick=\"convertToInteractive('df-199d2b10-8d27-4b6c-aaa9-1fb36b488391')\"\n",
              "            title=\"Convert this dataframe to an interactive table.\"\n",
              "            style=\"display:none;\">\n",
              "\n",
              "  <svg xmlns=\"http://www.w3.org/2000/svg\" height=\"24px\" viewBox=\"0 -960 960 960\">\n",
              "    <path d=\"M120-120v-720h720v720H120Zm60-500h600v-160H180v160Zm220 220h160v-160H400v160Zm0 220h160v-160H400v160ZM180-400h160v-160H180v160Zm440 0h160v-160H620v160ZM180-180h160v-160H180v160Zm440 0h160v-160H620v160Z\"/>\n",
              "  </svg>\n",
              "    </button>\n",
              "\n",
              "  <style>\n",
              "    .colab-df-container {\n",
              "      display:flex;\n",
              "      gap: 12px;\n",
              "    }\n",
              "\n",
              "    .colab-df-convert {\n",
              "      background-color: #E8F0FE;\n",
              "      border: none;\n",
              "      border-radius: 50%;\n",
              "      cursor: pointer;\n",
              "      display: none;\n",
              "      fill: #1967D2;\n",
              "      height: 32px;\n",
              "      padding: 0 0 0 0;\n",
              "      width: 32px;\n",
              "    }\n",
              "\n",
              "    .colab-df-convert:hover {\n",
              "      background-color: #E2EBFA;\n",
              "      box-shadow: 0px 1px 2px rgba(60, 64, 67, 0.3), 0px 1px 3px 1px rgba(60, 64, 67, 0.15);\n",
              "      fill: #174EA6;\n",
              "    }\n",
              "\n",
              "    .colab-df-buttons div {\n",
              "      margin-bottom: 4px;\n",
              "    }\n",
              "\n",
              "    [theme=dark] .colab-df-convert {\n",
              "      background-color: #3B4455;\n",
              "      fill: #D2E3FC;\n",
              "    }\n",
              "\n",
              "    [theme=dark] .colab-df-convert:hover {\n",
              "      background-color: #434B5C;\n",
              "      box-shadow: 0px 1px 3px 1px rgba(0, 0, 0, 0.15);\n",
              "      filter: drop-shadow(0px 1px 2px rgba(0, 0, 0, 0.3));\n",
              "      fill: #FFFFFF;\n",
              "    }\n",
              "  </style>\n",
              "\n",
              "    <script>\n",
              "      const buttonEl =\n",
              "        document.querySelector('#df-199d2b10-8d27-4b6c-aaa9-1fb36b488391 button.colab-df-convert');\n",
              "      buttonEl.style.display =\n",
              "        google.colab.kernel.accessAllowed ? 'block' : 'none';\n",
              "\n",
              "      async function convertToInteractive(key) {\n",
              "        const element = document.querySelector('#df-199d2b10-8d27-4b6c-aaa9-1fb36b488391');\n",
              "        const dataTable =\n",
              "          await google.colab.kernel.invokeFunction('convertToInteractive',\n",
              "                                                    [key], {});\n",
              "        if (!dataTable) return;\n",
              "\n",
              "        const docLinkHtml = 'Like what you see? Visit the ' +\n",
              "          '<a target=\"_blank\" href=https://colab.research.google.com/notebooks/data_table.ipynb>data table notebook</a>'\n",
              "          + ' to learn more about interactive tables.';\n",
              "        element.innerHTML = '';\n",
              "        dataTable['output_type'] = 'display_data';\n",
              "        await google.colab.output.renderOutput(dataTable, element);\n",
              "        const docLink = document.createElement('div');\n",
              "        docLink.innerHTML = docLinkHtml;\n",
              "        element.appendChild(docLink);\n",
              "      }\n",
              "    </script>\n",
              "  </div>\n",
              "\n",
              "\n",
              "<div id=\"df-c6bf4417-cd04-470a-a5f1-e9859fdcc055\">\n",
              "  <button class=\"colab-df-quickchart\" onclick=\"quickchart('df-c6bf4417-cd04-470a-a5f1-e9859fdcc055')\"\n",
              "            title=\"Suggest charts\"\n",
              "            style=\"display:none;\">\n",
              "\n",
              "<svg xmlns=\"http://www.w3.org/2000/svg\" height=\"24px\"viewBox=\"0 0 24 24\"\n",
              "     width=\"24px\">\n",
              "    <g>\n",
              "        <path d=\"M19 3H5c-1.1 0-2 .9-2 2v14c0 1.1.9 2 2 2h14c1.1 0 2-.9 2-2V5c0-1.1-.9-2-2-2zM9 17H7v-7h2v7zm4 0h-2V7h2v10zm4 0h-2v-4h2v4z\"/>\n",
              "    </g>\n",
              "</svg>\n",
              "  </button>\n",
              "\n",
              "<style>\n",
              "  .colab-df-quickchart {\n",
              "      --bg-color: #E8F0FE;\n",
              "      --fill-color: #1967D2;\n",
              "      --hover-bg-color: #E2EBFA;\n",
              "      --hover-fill-color: #174EA6;\n",
              "      --disabled-fill-color: #AAA;\n",
              "      --disabled-bg-color: #DDD;\n",
              "  }\n",
              "\n",
              "  [theme=dark] .colab-df-quickchart {\n",
              "      --bg-color: #3B4455;\n",
              "      --fill-color: #D2E3FC;\n",
              "      --hover-bg-color: #434B5C;\n",
              "      --hover-fill-color: #FFFFFF;\n",
              "      --disabled-bg-color: #3B4455;\n",
              "      --disabled-fill-color: #666;\n",
              "  }\n",
              "\n",
              "  .colab-df-quickchart {\n",
              "    background-color: var(--bg-color);\n",
              "    border: none;\n",
              "    border-radius: 50%;\n",
              "    cursor: pointer;\n",
              "    display: none;\n",
              "    fill: var(--fill-color);\n",
              "    height: 32px;\n",
              "    padding: 0;\n",
              "    width: 32px;\n",
              "  }\n",
              "\n",
              "  .colab-df-quickchart:hover {\n",
              "    background-color: var(--hover-bg-color);\n",
              "    box-shadow: 0 1px 2px rgba(60, 64, 67, 0.3), 0 1px 3px 1px rgba(60, 64, 67, 0.15);\n",
              "    fill: var(--button-hover-fill-color);\n",
              "  }\n",
              "\n",
              "  .colab-df-quickchart-complete:disabled,\n",
              "  .colab-df-quickchart-complete:disabled:hover {\n",
              "    background-color: var(--disabled-bg-color);\n",
              "    fill: var(--disabled-fill-color);\n",
              "    box-shadow: none;\n",
              "  }\n",
              "\n",
              "  .colab-df-spinner {\n",
              "    border: 2px solid var(--fill-color);\n",
              "    border-color: transparent;\n",
              "    border-bottom-color: var(--fill-color);\n",
              "    animation:\n",
              "      spin 1s steps(1) infinite;\n",
              "  }\n",
              "\n",
              "  @keyframes spin {\n",
              "    0% {\n",
              "      border-color: transparent;\n",
              "      border-bottom-color: var(--fill-color);\n",
              "      border-left-color: var(--fill-color);\n",
              "    }\n",
              "    20% {\n",
              "      border-color: transparent;\n",
              "      border-left-color: var(--fill-color);\n",
              "      border-top-color: var(--fill-color);\n",
              "    }\n",
              "    30% {\n",
              "      border-color: transparent;\n",
              "      border-left-color: var(--fill-color);\n",
              "      border-top-color: var(--fill-color);\n",
              "      border-right-color: var(--fill-color);\n",
              "    }\n",
              "    40% {\n",
              "      border-color: transparent;\n",
              "      border-right-color: var(--fill-color);\n",
              "      border-top-color: var(--fill-color);\n",
              "    }\n",
              "    60% {\n",
              "      border-color: transparent;\n",
              "      border-right-color: var(--fill-color);\n",
              "    }\n",
              "    80% {\n",
              "      border-color: transparent;\n",
              "      border-right-color: var(--fill-color);\n",
              "      border-bottom-color: var(--fill-color);\n",
              "    }\n",
              "    90% {\n",
              "      border-color: transparent;\n",
              "      border-bottom-color: var(--fill-color);\n",
              "    }\n",
              "  }\n",
              "</style>\n",
              "\n",
              "  <script>\n",
              "    async function quickchart(key) {\n",
              "      const quickchartButtonEl =\n",
              "        document.querySelector('#' + key + ' button');\n",
              "      quickchartButtonEl.disabled = true;  // To prevent multiple clicks.\n",
              "      quickchartButtonEl.classList.add('colab-df-spinner');\n",
              "      try {\n",
              "        const charts = await google.colab.kernel.invokeFunction(\n",
              "            'suggestCharts', [key], {});\n",
              "      } catch (error) {\n",
              "        console.error('Error during call to suggestCharts:', error);\n",
              "      }\n",
              "      quickchartButtonEl.classList.remove('colab-df-spinner');\n",
              "      quickchartButtonEl.classList.add('colab-df-quickchart-complete');\n",
              "    }\n",
              "    (() => {\n",
              "      let quickchartButtonEl =\n",
              "        document.querySelector('#df-c6bf4417-cd04-470a-a5f1-e9859fdcc055 button');\n",
              "      quickchartButtonEl.style.display =\n",
              "        google.colab.kernel.accessAllowed ? 'block' : 'none';\n",
              "    })();\n",
              "  </script>\n",
              "</div>\n",
              "    </div>\n",
              "  </div>\n"
            ],
            "application/vnd.google.colaboratory.intrinsic+json": {
              "type": "dataframe",
              "variable_name": "gdp_df",
              "summary": "{\n  \"name\": \"gdp_df\",\n  \"rows\": 210,\n  \"fields\": [\n    {\n      \"column\": [\n        \"Country/Territory\",\n        \"Country/Territory\"\n      ],\n      \"properties\": {\n        \"dtype\": \"string\",\n        \"num_unique_values\": 210,\n        \"samples\": [\n          \"United Arab Emirates\",\n          \"Suriname\",\n          \"Azerbaijan\"\n        ],\n        \"semantic_type\": \"\",\n        \"description\": \"\"\n      }\n    },\n    {\n      \"column\": [\n        \"IMF[1][13]\",\n        \"Forecast\"\n      ],\n      \"properties\": {\n        \"dtype\": \"string\",\n        \"num_unique_values\": 196,\n        \"samples\": [\n          \"15873\",\n          \"29078\",\n          \"1475690\"\n        ],\n        \"semantic_type\": \"\",\n        \"description\": \"\"\n      }\n    },\n    {\n      \"column\": [\n        \"IMF[1][13]\",\n        \"Year\"\n      ],\n      \"properties\": {\n        \"dtype\": \"category\",\n        \"num_unique_values\": 13,\n        \"samples\": [\n          \"[n 12]2023\",\n          \"[n 10]2024\",\n          \"2024\"\n        ],\n        \"semantic_type\": \"\",\n        \"description\": \"\"\n      }\n    },\n    {\n      \"column\": [\n        \"World Bank[14]\",\n        \"Estimate\"\n      ],\n      \"properties\": {\n        \"dtype\": \"string\",\n        \"num_unique_values\": 203,\n        \"samples\": [\n          \"1580695\",\n          \"2254851\",\n          \"22978\"\n        ],\n        \"semantic_type\": \"\",\n        \"description\": \"\"\n      }\n    },\n    {\n      \"column\": [\n        \"World Bank[14]\",\n        \"Year\"\n      ],\n      \"properties\": {\n        \"dtype\": \"category\",\n        \"num_unique_values\": 10,\n        \"samples\": [\n          \"[n 14]2023\",\n          \"[n 3]2023\",\n          \"[n 10]2023\"\n        ],\n        \"semantic_type\": \"\",\n        \"description\": \"\"\n      }\n    },\n    {\n      \"column\": [\n        \"United Nations[15]\",\n        \"Estimate\"\n      ],\n      \"properties\": {\n        \"dtype\": \"string\",\n        \"num_unique_values\": 210,\n        \"samples\": [\n          \"507063\",\n          \"3620\",\n          \"78721\"\n        ],\n        \"semantic_type\": \"\",\n        \"description\": \"\"\n      }\n    },\n    {\n      \"column\": [\n        \"United Nations[15]\",\n        \"Year\"\n      ],\n      \"properties\": {\n        \"dtype\": \"category\",\n        \"num_unique_values\": 10,\n        \"samples\": [\n          \"[n 13]2022\",\n          \"[n 1]2022\",\n          \"[n 8]2022\"\n        ],\n        \"semantic_type\": \"\",\n        \"description\": \"\"\n      }\n    }\n  ]\n}"
            }
          },
          "metadata": {},
          "execution_count": 50
        }
      ]
    },
    {
      "cell_type": "markdown",
      "source": [
        "Визначити розмір датасета"
      ],
      "metadata": {
        "id": "EwNEFpsBdFCC"
      }
    },
    {
      "cell_type": "code",
      "source": [
        "\n",
        "gdp_df.shape"
      ],
      "metadata": {
        "colab": {
          "base_uri": "https://localhost:8080/"
        },
        "id": "RFkk8HuzdLxq",
        "outputId": "744a1463-b21d-4a8f-ce01-2acbdef7eb76"
      },
      "execution_count": null,
      "outputs": [
        {
          "output_type": "execute_result",
          "data": {
            "text/plain": [
              "(210, 7)"
            ]
          },
          "metadata": {},
          "execution_count": 51
        }
      ]
    },
    {
      "cell_type": "markdown",
      "source": [
        "3. Визначити оптимальну кількість стовпців"
      ],
      "metadata": {
        "id": "pzgKAXWWdTY2"
      }
    },
    {
      "cell_type": "code",
      "source": [
        "gdp_df.columns"
      ],
      "metadata": {
        "colab": {
          "base_uri": "https://localhost:8080/"
        },
        "id": "KMilFn_FdYIu",
        "outputId": "359d51e5-4b6a-4d8a-872b-fa941cbb1eb4"
      },
      "execution_count": null,
      "outputs": [
        {
          "output_type": "execute_result",
          "data": {
            "text/plain": [
              "MultiIndex([( 'Country/Territory', 'Country/Territory'),\n",
              "            (        'IMF[1][13]',          'Forecast'),\n",
              "            (        'IMF[1][13]',              'Year'),\n",
              "            (    'World Bank[14]',          'Estimate'),\n",
              "            (    'World Bank[14]',              'Year'),\n",
              "            ('United Nations[15]',          'Estimate'),\n",
              "            ('United Nations[15]',              'Year')],\n",
              "           )"
            ]
          },
          "metadata": {},
          "execution_count": 52
        }
      ]
    },
    {
      "cell_type": "markdown",
      "source": [
        "4. Змінити назви стовпців на більш зручні"
      ],
      "metadata": {
        "id": "NKRcTjgSd3qI"
      }
    },
    {
      "cell_type": "code",
      "source": [
        "gdp_df.columns = gdp_df.columns.droplevel(0)\n",
        "\n",
        "print(gdp_df.head())"
      ],
      "metadata": {
        "colab": {
          "base_uri": "https://localhost:8080/"
        },
        "id": "3s2Ek9RcxmmR",
        "outputId": "333b23d8-da9d-4e69-9358-119285fbf954"
      },
      "execution_count": null,
      "outputs": [
        {
          "output_type": "stream",
          "name": "stdout",
          "text": [
            "  Country/Territory   Forecast       Year   Estimate       Year   Estimate  \\\n",
            "0             World  109529216       2024  105435540       2023  100834796   \n",
            "1     United States   28781083       2024   27360935       2023   25744100   \n",
            "2             China   18532633  [n 1]2024   17794782  [n 3]2023   17963170   \n",
            "3           Germany    4591100       2024    4456081       2023    4076923   \n",
            "4             Japan    4110452       2024    4212945       2023    4232173   \n",
            "\n",
            "        Year  \n",
            "0       2022  \n",
            "1       2022  \n",
            "2  [n 1]2022  \n",
            "3       2022  \n",
            "4       2022  \n"
          ]
        }
      ]
    },
    {
      "cell_type": "code",
      "source": [
        "gdp_df = gdp_df.drop(gdp_df.columns[[2, 4, 6]], axis=1)\n",
        "print(gdp_df.head())"
      ],
      "metadata": {
        "colab": {
          "base_uri": "https://localhost:8080/"
        },
        "id": "_LtAuL1C0gBr",
        "outputId": "f938f296-88ff-49d5-eb09-a2474ebc3e3c"
      },
      "execution_count": null,
      "outputs": [
        {
          "output_type": "stream",
          "name": "stdout",
          "text": [
            "  Country/Territory   Forecast   Estimate   Estimate\n",
            "0             World  109529216  105435540  100834796\n",
            "1     United States   28781083   27360935   25744100\n",
            "2             China   18532633   17794782   17963170\n",
            "3           Germany    4591100    4456081    4076923\n",
            "4             Japan    4110452    4212945    4232173\n"
          ]
        }
      ]
    },
    {
      "cell_type": "code",
      "source": [
        "\n",
        "new_column_names = {0: 'Country', 1: 'IMF', 2: 'World Bank', 3: 'UN'}\n",
        "\n",
        "gdp_df.columns = [new_column_names.get(i, col) for i, col in enumerate(gdp_df.columns)]\n",
        "\n",
        "print(gdp_df.head())"
      ],
      "metadata": {
        "colab": {
          "base_uri": "https://localhost:8080/"
        },
        "id": "WLfLiSJs5qLF",
        "outputId": "3b948835-1e66-4ae5-b44a-476ae0120c89"
      },
      "execution_count": null,
      "outputs": [
        {
          "output_type": "stream",
          "name": "stdout",
          "text": [
            "         Country        IMF World Bank         UN\n",
            "0          World  109529216  105435540  100834796\n",
            "1  United States   28781083   27360935   25744100\n",
            "2          China   18532633   17794782   17963170\n",
            "3        Germany    4591100    4456081    4076923\n",
            "4          Japan    4110452    4212945    4232173\n"
          ]
        }
      ]
    },
    {
      "cell_type": "code",
      "source": [
        "gdp_df.head()"
      ],
      "metadata": {
        "colab": {
          "base_uri": "https://localhost:8080/",
          "height": 206
        },
        "id": "VspMUPcoq3BP",
        "outputId": "6fcc568b-6c5b-40db-aa9b-cee968722b44"
      },
      "execution_count": null,
      "outputs": [
        {
          "output_type": "execute_result",
          "data": {
            "text/plain": [
              "         Country        IMF World Bank         UN\n",
              "0          World  109529216  105435540  100834796\n",
              "1  United States   28781083   27360935   25744100\n",
              "2          China   18532633   17794782   17963170\n",
              "3        Germany    4591100    4456081    4076923\n",
              "4          Japan    4110452    4212945    4232173"
            ],
            "text/html": [
              "\n",
              "  <div id=\"df-e2021e2a-c2b2-4772-8d33-693e6aa68aec\" class=\"colab-df-container\">\n",
              "    <div>\n",
              "<style scoped>\n",
              "    .dataframe tbody tr th:only-of-type {\n",
              "        vertical-align: middle;\n",
              "    }\n",
              "\n",
              "    .dataframe tbody tr th {\n",
              "        vertical-align: top;\n",
              "    }\n",
              "\n",
              "    .dataframe thead th {\n",
              "        text-align: right;\n",
              "    }\n",
              "</style>\n",
              "<table border=\"1\" class=\"dataframe\">\n",
              "  <thead>\n",
              "    <tr style=\"text-align: right;\">\n",
              "      <th></th>\n",
              "      <th>Country</th>\n",
              "      <th>IMF</th>\n",
              "      <th>World Bank</th>\n",
              "      <th>UN</th>\n",
              "    </tr>\n",
              "  </thead>\n",
              "  <tbody>\n",
              "    <tr>\n",
              "      <th>0</th>\n",
              "      <td>World</td>\n",
              "      <td>109529216</td>\n",
              "      <td>105435540</td>\n",
              "      <td>100834796</td>\n",
              "    </tr>\n",
              "    <tr>\n",
              "      <th>1</th>\n",
              "      <td>United States</td>\n",
              "      <td>28781083</td>\n",
              "      <td>27360935</td>\n",
              "      <td>25744100</td>\n",
              "    </tr>\n",
              "    <tr>\n",
              "      <th>2</th>\n",
              "      <td>China</td>\n",
              "      <td>18532633</td>\n",
              "      <td>17794782</td>\n",
              "      <td>17963170</td>\n",
              "    </tr>\n",
              "    <tr>\n",
              "      <th>3</th>\n",
              "      <td>Germany</td>\n",
              "      <td>4591100</td>\n",
              "      <td>4456081</td>\n",
              "      <td>4076923</td>\n",
              "    </tr>\n",
              "    <tr>\n",
              "      <th>4</th>\n",
              "      <td>Japan</td>\n",
              "      <td>4110452</td>\n",
              "      <td>4212945</td>\n",
              "      <td>4232173</td>\n",
              "    </tr>\n",
              "  </tbody>\n",
              "</table>\n",
              "</div>\n",
              "    <div class=\"colab-df-buttons\">\n",
              "\n",
              "  <div class=\"colab-df-container\">\n",
              "    <button class=\"colab-df-convert\" onclick=\"convertToInteractive('df-e2021e2a-c2b2-4772-8d33-693e6aa68aec')\"\n",
              "            title=\"Convert this dataframe to an interactive table.\"\n",
              "            style=\"display:none;\">\n",
              "\n",
              "  <svg xmlns=\"http://www.w3.org/2000/svg\" height=\"24px\" viewBox=\"0 -960 960 960\">\n",
              "    <path d=\"M120-120v-720h720v720H120Zm60-500h600v-160H180v160Zm220 220h160v-160H400v160Zm0 220h160v-160H400v160ZM180-400h160v-160H180v160Zm440 0h160v-160H620v160ZM180-180h160v-160H180v160Zm440 0h160v-160H620v160Z\"/>\n",
              "  </svg>\n",
              "    </button>\n",
              "\n",
              "  <style>\n",
              "    .colab-df-container {\n",
              "      display:flex;\n",
              "      gap: 12px;\n",
              "    }\n",
              "\n",
              "    .colab-df-convert {\n",
              "      background-color: #E8F0FE;\n",
              "      border: none;\n",
              "      border-radius: 50%;\n",
              "      cursor: pointer;\n",
              "      display: none;\n",
              "      fill: #1967D2;\n",
              "      height: 32px;\n",
              "      padding: 0 0 0 0;\n",
              "      width: 32px;\n",
              "    }\n",
              "\n",
              "    .colab-df-convert:hover {\n",
              "      background-color: #E2EBFA;\n",
              "      box-shadow: 0px 1px 2px rgba(60, 64, 67, 0.3), 0px 1px 3px 1px rgba(60, 64, 67, 0.15);\n",
              "      fill: #174EA6;\n",
              "    }\n",
              "\n",
              "    .colab-df-buttons div {\n",
              "      margin-bottom: 4px;\n",
              "    }\n",
              "\n",
              "    [theme=dark] .colab-df-convert {\n",
              "      background-color: #3B4455;\n",
              "      fill: #D2E3FC;\n",
              "    }\n",
              "\n",
              "    [theme=dark] .colab-df-convert:hover {\n",
              "      background-color: #434B5C;\n",
              "      box-shadow: 0px 1px 3px 1px rgba(0, 0, 0, 0.15);\n",
              "      filter: drop-shadow(0px 1px 2px rgba(0, 0, 0, 0.3));\n",
              "      fill: #FFFFFF;\n",
              "    }\n",
              "  </style>\n",
              "\n",
              "    <script>\n",
              "      const buttonEl =\n",
              "        document.querySelector('#df-e2021e2a-c2b2-4772-8d33-693e6aa68aec button.colab-df-convert');\n",
              "      buttonEl.style.display =\n",
              "        google.colab.kernel.accessAllowed ? 'block' : 'none';\n",
              "\n",
              "      async function convertToInteractive(key) {\n",
              "        const element = document.querySelector('#df-e2021e2a-c2b2-4772-8d33-693e6aa68aec');\n",
              "        const dataTable =\n",
              "          await google.colab.kernel.invokeFunction('convertToInteractive',\n",
              "                                                    [key], {});\n",
              "        if (!dataTable) return;\n",
              "\n",
              "        const docLinkHtml = 'Like what you see? Visit the ' +\n",
              "          '<a target=\"_blank\" href=https://colab.research.google.com/notebooks/data_table.ipynb>data table notebook</a>'\n",
              "          + ' to learn more about interactive tables.';\n",
              "        element.innerHTML = '';\n",
              "        dataTable['output_type'] = 'display_data';\n",
              "        await google.colab.output.renderOutput(dataTable, element);\n",
              "        const docLink = document.createElement('div');\n",
              "        docLink.innerHTML = docLinkHtml;\n",
              "        element.appendChild(docLink);\n",
              "      }\n",
              "    </script>\n",
              "  </div>\n",
              "\n",
              "\n",
              "<div id=\"df-bc9188ea-da81-404a-981b-2718ad8261cf\">\n",
              "  <button class=\"colab-df-quickchart\" onclick=\"quickchart('df-bc9188ea-da81-404a-981b-2718ad8261cf')\"\n",
              "            title=\"Suggest charts\"\n",
              "            style=\"display:none;\">\n",
              "\n",
              "<svg xmlns=\"http://www.w3.org/2000/svg\" height=\"24px\"viewBox=\"0 0 24 24\"\n",
              "     width=\"24px\">\n",
              "    <g>\n",
              "        <path d=\"M19 3H5c-1.1 0-2 .9-2 2v14c0 1.1.9 2 2 2h14c1.1 0 2-.9 2-2V5c0-1.1-.9-2-2-2zM9 17H7v-7h2v7zm4 0h-2V7h2v10zm4 0h-2v-4h2v4z\"/>\n",
              "    </g>\n",
              "</svg>\n",
              "  </button>\n",
              "\n",
              "<style>\n",
              "  .colab-df-quickchart {\n",
              "      --bg-color: #E8F0FE;\n",
              "      --fill-color: #1967D2;\n",
              "      --hover-bg-color: #E2EBFA;\n",
              "      --hover-fill-color: #174EA6;\n",
              "      --disabled-fill-color: #AAA;\n",
              "      --disabled-bg-color: #DDD;\n",
              "  }\n",
              "\n",
              "  [theme=dark] .colab-df-quickchart {\n",
              "      --bg-color: #3B4455;\n",
              "      --fill-color: #D2E3FC;\n",
              "      --hover-bg-color: #434B5C;\n",
              "      --hover-fill-color: #FFFFFF;\n",
              "      --disabled-bg-color: #3B4455;\n",
              "      --disabled-fill-color: #666;\n",
              "  }\n",
              "\n",
              "  .colab-df-quickchart {\n",
              "    background-color: var(--bg-color);\n",
              "    border: none;\n",
              "    border-radius: 50%;\n",
              "    cursor: pointer;\n",
              "    display: none;\n",
              "    fill: var(--fill-color);\n",
              "    height: 32px;\n",
              "    padding: 0;\n",
              "    width: 32px;\n",
              "  }\n",
              "\n",
              "  .colab-df-quickchart:hover {\n",
              "    background-color: var(--hover-bg-color);\n",
              "    box-shadow: 0 1px 2px rgba(60, 64, 67, 0.3), 0 1px 3px 1px rgba(60, 64, 67, 0.15);\n",
              "    fill: var(--button-hover-fill-color);\n",
              "  }\n",
              "\n",
              "  .colab-df-quickchart-complete:disabled,\n",
              "  .colab-df-quickchart-complete:disabled:hover {\n",
              "    background-color: var(--disabled-bg-color);\n",
              "    fill: var(--disabled-fill-color);\n",
              "    box-shadow: none;\n",
              "  }\n",
              "\n",
              "  .colab-df-spinner {\n",
              "    border: 2px solid var(--fill-color);\n",
              "    border-color: transparent;\n",
              "    border-bottom-color: var(--fill-color);\n",
              "    animation:\n",
              "      spin 1s steps(1) infinite;\n",
              "  }\n",
              "\n",
              "  @keyframes spin {\n",
              "    0% {\n",
              "      border-color: transparent;\n",
              "      border-bottom-color: var(--fill-color);\n",
              "      border-left-color: var(--fill-color);\n",
              "    }\n",
              "    20% {\n",
              "      border-color: transparent;\n",
              "      border-left-color: var(--fill-color);\n",
              "      border-top-color: var(--fill-color);\n",
              "    }\n",
              "    30% {\n",
              "      border-color: transparent;\n",
              "      border-left-color: var(--fill-color);\n",
              "      border-top-color: var(--fill-color);\n",
              "      border-right-color: var(--fill-color);\n",
              "    }\n",
              "    40% {\n",
              "      border-color: transparent;\n",
              "      border-right-color: var(--fill-color);\n",
              "      border-top-color: var(--fill-color);\n",
              "    }\n",
              "    60% {\n",
              "      border-color: transparent;\n",
              "      border-right-color: var(--fill-color);\n",
              "    }\n",
              "    80% {\n",
              "      border-color: transparent;\n",
              "      border-right-color: var(--fill-color);\n",
              "      border-bottom-color: var(--fill-color);\n",
              "    }\n",
              "    90% {\n",
              "      border-color: transparent;\n",
              "      border-bottom-color: var(--fill-color);\n",
              "    }\n",
              "  }\n",
              "</style>\n",
              "\n",
              "  <script>\n",
              "    async function quickchart(key) {\n",
              "      const quickchartButtonEl =\n",
              "        document.querySelector('#' + key + ' button');\n",
              "      quickchartButtonEl.disabled = true;  // To prevent multiple clicks.\n",
              "      quickchartButtonEl.classList.add('colab-df-spinner');\n",
              "      try {\n",
              "        const charts = await google.colab.kernel.invokeFunction(\n",
              "            'suggestCharts', [key], {});\n",
              "      } catch (error) {\n",
              "        console.error('Error during call to suggestCharts:', error);\n",
              "      }\n",
              "      quickchartButtonEl.classList.remove('colab-df-spinner');\n",
              "      quickchartButtonEl.classList.add('colab-df-quickchart-complete');\n",
              "    }\n",
              "    (() => {\n",
              "      let quickchartButtonEl =\n",
              "        document.querySelector('#df-bc9188ea-da81-404a-981b-2718ad8261cf button');\n",
              "      quickchartButtonEl.style.display =\n",
              "        google.colab.kernel.accessAllowed ? 'block' : 'none';\n",
              "    })();\n",
              "  </script>\n",
              "</div>\n",
              "    </div>\n",
              "  </div>\n"
            ],
            "application/vnd.google.colaboratory.intrinsic+json": {
              "type": "dataframe",
              "variable_name": "gdp_df",
              "summary": "{\n  \"name\": \"gdp_df\",\n  \"rows\": 210,\n  \"fields\": [\n    {\n      \"column\": \"Country\",\n      \"properties\": {\n        \"dtype\": \"string\",\n        \"num_unique_values\": 210,\n        \"samples\": [\n          \"United Arab Emirates\",\n          \"Suriname\",\n          \"Azerbaijan\"\n        ],\n        \"semantic_type\": \"\",\n        \"description\": \"\"\n      }\n    },\n    {\n      \"column\": \"IMF\",\n      \"properties\": {\n        \"dtype\": \"string\",\n        \"num_unique_values\": 196,\n        \"samples\": [\n          \"15873\",\n          \"29078\",\n          \"1475690\"\n        ],\n        \"semantic_type\": \"\",\n        \"description\": \"\"\n      }\n    },\n    {\n      \"column\": \"World Bank\",\n      \"properties\": {\n        \"dtype\": \"string\",\n        \"num_unique_values\": 203,\n        \"samples\": [\n          \"1580695\",\n          \"2254851\",\n          \"22978\"\n        ],\n        \"semantic_type\": \"\",\n        \"description\": \"\"\n      }\n    },\n    {\n      \"column\": \"UN\",\n      \"properties\": {\n        \"dtype\": \"string\",\n        \"num_unique_values\": 210,\n        \"samples\": [\n          \"507063\",\n          \"3620\",\n          \"78721\"\n        ],\n        \"semantic_type\": \"\",\n        \"description\": \"\"\n      }\n    }\n  ]\n}"
            }
          },
          "metadata": {},
          "execution_count": 56
        }
      ]
    },
    {
      "cell_type": "markdown",
      "source": [
        "Визначити тип даних"
      ],
      "metadata": {
        "id": "YodJ9HIbsIUt"
      }
    },
    {
      "cell_type": "code",
      "source": [
        "print(gdp_df.dtypes)"
      ],
      "metadata": {
        "colab": {
          "base_uri": "https://localhost:8080/"
        },
        "id": "AvZ3Uo77sKaV",
        "outputId": "7b1220e7-848d-4e69-9a12-01861788d148"
      },
      "execution_count": null,
      "outputs": [
        {
          "output_type": "stream",
          "name": "stdout",
          "text": [
            "Country       object\n",
            "IMF           object\n",
            "World Bank    object\n",
            "UN            object\n",
            "dtype: object\n"
          ]
        }
      ]
    },
    {
      "cell_type": "markdown",
      "source": [
        "Замініть у таблиці значення \"—\" на значення NaN. Перевірити наявність пропущених значень. При наявності, замінити пропущені значення на середнє значення."
      ],
      "metadata": {
        "id": "Itjs3P-Isjpd"
      }
    },
    {
      "cell_type": "code",
      "source": [
        "print(gdp_df.isnull().sum())"
      ],
      "metadata": {
        "colab": {
          "base_uri": "https://localhost:8080/"
        },
        "id": "tLOsjM3GslJ0",
        "outputId": "dd028e92-ef21-4aa9-a35e-a30ff2d453f9"
      },
      "execution_count": null,
      "outputs": [
        {
          "output_type": "stream",
          "name": "stdout",
          "text": [
            "Country       0\n",
            "IMF           0\n",
            "World Bank    0\n",
            "UN            0\n",
            "dtype: int64\n"
          ]
        }
      ]
    },
    {
      "cell_type": "code",
      "source": [
        "gdp_df.replace('—', float('nan'), inplace=True)\n",
        "\n",
        "gdp_df['IMF'] = pd.to_numeric(gdp_df['IMF'], errors='coerce')\n",
        "gdp_df['World Bank'] = pd.to_numeric(gdp_df['World Bank'], errors='coerce')\n",
        "gdp_df['UN'] = pd.to_numeric(gdp_df['UN'], errors='coerce')\n",
        "\n",
        "print(\"Типи дпних після конвертації:\\n\", gdp_df.dtypes)\n",
        "\n",
        "print(gdp_df.head())"
      ],
      "metadata": {
        "colab": {
          "base_uri": "https://localhost:8080/"
        },
        "id": "9wEsuJFv75B_",
        "outputId": "130e3e61-7fb7-4368-cd26-9ce41c24c52a"
      },
      "execution_count": null,
      "outputs": [
        {
          "output_type": "stream",
          "name": "stdout",
          "text": [
            "Типи дпних після конвертації:\n",
            " Country        object\n",
            "IMF           float64\n",
            "World Bank    float64\n",
            "UN            float64\n",
            "dtype: object\n",
            "         Country          IMF   World Bank           UN\n",
            "0          World  109529216.0  105435540.0  100834796.0\n",
            "1  United States   28781083.0   27360935.0   25744100.0\n",
            "2          China   18532633.0   17794782.0   17963170.0\n",
            "3        Germany    4591100.0    4456081.0    4076923.0\n",
            "4          Japan    4110452.0    4212945.0    4232173.0\n"
          ]
        }
      ]
    },
    {
      "cell_type": "code",
      "source": [
        "gdp_df = gdp_df.replace({'—': np.NAN})\n",
        "gdp_df = gdp_df.fillna(gdp_df.mean(numeric_only=True), axis=0)\n",
        "print(gdp_df.head)"
      ],
      "metadata": {
        "colab": {
          "base_uri": "https://localhost:8080/"
        },
        "id": "lRiHYprB8TGW",
        "outputId": "6718af6a-f0d7-4147-c6ad-4df85945a423"
      },
      "execution_count": null,
      "outputs": [
        {
          "output_type": "stream",
          "name": "stdout",
          "text": [
            "<bound method NDFrame.head of               Country          IMF   World Bank           UN\n",
            "0               World  109529216.0  105435540.0  100834796.0\n",
            "1       United States   28781083.0   27360935.0   25744100.0\n",
            "2               China   18532633.0   17794782.0   17963170.0\n",
            "3             Germany    4591100.0    4456081.0    4076923.0\n",
            "4               Japan    4110452.0    4212945.0    4232173.0\n",
            "..                ...          ...          ...          ...\n",
            "205          Kiribati        311.0        279.0        223.0\n",
            "206             Palau        308.0        263.0        225.0\n",
            "207  Marshall Islands        305.0        284.0        279.0\n",
            "208             Nauru        161.0        154.0        147.0\n",
            "209            Tuvalu         66.0         62.0         59.0\n",
            "\n",
            "[210 rows x 4 columns]>\n"
          ]
        }
      ]
    },
    {
      "cell_type": "markdown",
      "source": [
        "Перевірити наявність пропущених значень ще раз"
      ],
      "metadata": {
        "id": "KynA6ovL_WwL"
      }
    },
    {
      "cell_type": "code",
      "source": [
        "print(gdp_df.isnull().sum())"
      ],
      "metadata": {
        "colab": {
          "base_uri": "https://localhost:8080/"
        },
        "id": "YCy3N9vd_b1n",
        "outputId": "7f57e68b-0474-4004-8144-a80d7223b9c2"
      },
      "execution_count": null,
      "outputs": [
        {
          "output_type": "stream",
          "name": "stdout",
          "text": [
            "Country       0\n",
            "IMF           0\n",
            "World Bank    0\n",
            "UN            0\n",
            "dtype: int64\n"
          ]
        }
      ]
    },
    {
      "cell_type": "markdown",
      "source": [
        "Вивести описову статистику датасету describe()"
      ],
      "metadata": {
        "id": "ggYpnXqm_jQW"
      }
    },
    {
      "cell_type": "code",
      "source": [
        "print(gdp_df.describe())"
      ],
      "metadata": {
        "colab": {
          "base_uri": "https://localhost:8080/"
        },
        "id": "zG1hVCya_kEG",
        "outputId": "f0db1613-b52a-482b-8214-6c166db88a48"
      },
      "execution_count": null,
      "outputs": [
        {
          "output_type": "stream",
          "name": "stdout",
          "text": [
            "                IMF    World Bank            UN\n",
            "count  2.100000e+02  2.100000e+02  2.100000e+02\n",
            "mean   1.123228e+06  1.037206e+06  9.612699e+05\n",
            "std    7.900707e+06  7.602076e+06  7.275608e+06\n",
            "min    6.600000e+01  6.200000e+01  5.900000e+01\n",
            "25%    1.464775e+04  1.044175e+04  8.928250e+03\n",
            "50%    6.215800e+04  4.341600e+04  3.210250e+04\n",
            "75%    4.366365e+05  3.376592e+05  2.412485e+05\n",
            "max    1.095292e+08  1.054355e+08  1.008348e+08\n"
          ]
        }
      ]
    },
    {
      "cell_type": "markdown",
      "source": [
        "Визначте відхилення (різницю) між показниками MVF_2024 та WorldBank_2023 для кожної країни. У яких країнах ці показники найбільше відрізняються (дати відповідт)?"
      ],
      "metadata": {
        "id": "RZg2C3-s_wE5"
      }
    },
    {
      "cell_type": "code",
      "source": [
        "\n",
        "gdp_df['Difference'] = gdp_df['IMF'] - gdp_df['World Bank']\n",
        "\n",
        "# Знайдемо країни з найбільшим і найменшим відхиленням\n",
        "max_diff_country = gdp_df.loc[gdp_df['Difference'].idxmax(), 'Country']\n",
        "min_diff_country = gdp_df.loc[gdp_df['Difference'].idxmin(), 'Country']\n",
        "\n",
        "print(f\"Найбільше відхилення між MVF_2024 та WorldBank_2023 у країни: {max_diff_country}\")\n",
        "print(f\"Найменше відхилення між MVF_2024 та WorldBank_2023 у країни: {min_diff_country}\")\n"
      ],
      "metadata": {
        "colab": {
          "base_uri": "https://localhost:8080/"
        },
        "id": "7LXcfP_l_8SO",
        "outputId": "88956c27-653f-4fa4-9839-ec6dd9aa9de1"
      },
      "execution_count": null,
      "outputs": [
        {
          "output_type": "stream",
          "name": "stdout",
          "text": [
            "Найбільше відхилення між MVF_2024 та WorldBank_2023 у країни: World\n",
            "Найменше відхилення між MVF_2024 та WorldBank_2023 у країни: South Sudan\n"
          ]
        }
      ]
    },
    {
      "cell_type": "markdown",
      "source": [
        "Обчисліть кореляцію між показниками MVF_2024, WorldBank_2023 та OON_2022. Які пари змінних мають найвищу кореляцію?"
      ],
      "metadata": {
        "id": "3H_2u42nB5ZQ"
      }
    },
    {
      "cell_type": "code",
      "source": [
        "\n",
        "correlation = gdp_df[['IMF', 'World Bank', 'UN']].corr()\n",
        "print(\"Кореляція між показниками:\\n\", correlation)"
      ],
      "metadata": {
        "colab": {
          "base_uri": "https://localhost:8080/"
        },
        "id": "7XEEBtVXB9ZT",
        "outputId": "f677c59c-55a4-4b12-a0ba-7eecff800cb1"
      },
      "execution_count": null,
      "outputs": [
        {
          "output_type": "stream",
          "name": "stdout",
          "text": [
            "Кореляція між показниками:\n",
            "                  IMF  World Bank        UN\n",
            "IMF         1.000000    0.999351  0.999246\n",
            "World Bank  0.999351    1.000000  0.999656\n",
            "UN          0.999246    0.999656  1.000000\n"
          ]
        }
      ]
    },
    {
      "cell_type": "markdown",
      "source": [
        "Обчисліть середнє значення для кожного стовпця (MVF_2024, WorldBank_2023, OON_2022). Як це середнє значення змінюється між роками?"
      ],
      "metadata": {
        "id": "CqFxER5OCK1n"
      }
    },
    {
      "cell_type": "code",
      "source": [
        "mean_values = gdp_df[['IMF', 'World Bank', 'UN']].mean()\n",
        "print(\"Середнє значення:\\n\", mean_values)"
      ],
      "metadata": {
        "colab": {
          "base_uri": "https://localhost:8080/"
        },
        "id": "1Gdy2dyRCLoI",
        "outputId": "7c9023fc-783c-49d8-f090-4b72ad17373e"
      },
      "execution_count": null,
      "outputs": [
        {
          "output_type": "stream",
          "name": "stdout",
          "text": [
            "Середнє значення:\n",
            " IMF           1.123228e+06\n",
            "World Bank    1.037206e+06\n",
            "UN            9.612699e+05\n",
            "dtype: float64\n"
          ]
        }
      ]
    },
    {
      "cell_type": "markdown",
      "source": [
        "Обчисліть стандартне відхилення показників для кожної країни. Яка країна має найвищу варіативність у показниках між роками?"
      ],
      "metadata": {
        "id": "VmtuMSgLDDtf"
      }
    },
    {
      "cell_type": "code",
      "source": [
        "gdp_df['StdDev'] = gdp_df[['IMF', 'World Bank', 'UN']].std(axis=1)\n",
        "\n",
        "# Знайдемо країну з найбільшою варіативністю між роками\n",
        "max_var_country = gdp_df.loc[gdp_df['StdDev'].idxmax(), 'Country']\n",
        "print(f\"Країна з найбільшою варіативністю показників між роками: {max_var_country}\")\n"
      ],
      "metadata": {
        "colab": {
          "base_uri": "https://localhost:8080/"
        },
        "id": "0rvMR16mDEq2",
        "outputId": "a905d97f-c82f-4595-9079-f1ac36da51ac"
      },
      "execution_count": null,
      "outputs": [
        {
          "output_type": "stream",
          "name": "stdout",
          "text": [
            "Країна з найбільшою варіативністю показників між роками: World\n"
          ]
        }
      ]
    },
    {
      "cell_type": "markdown",
      "source": [
        "14.Визначення країни з найвищим та найнижчим показниками: Знайдіть країну з найвищим та найнижчим показниками у кожному з років (MVF_2024, WorldBank_2023, OON_2022)."
      ],
      "metadata": {
        "id": "zg5qPXguERZM"
      }
    },
    {
      "cell_type": "code",
      "source": [
        "max_MVF_2024 = gdp_df.loc[gdp_df['IMF'].idxmax(), 'Country']\n",
        "min_MVF_2024 = gdp_df.loc[gdp_df['IMF'].idxmin(), 'Country']\n",
        "\n",
        "max_WB_2023 = gdp_df.loc[gdp_df['World Bank'].idxmax(), 'Country']\n",
        "min_WB_2023 = gdp_df.loc[gdp_df['World Bank'].idxmin(), 'Country']\n",
        "\n",
        "max_OON_2022 = gdp_df.loc[gdp_df['UN'].idxmax(), 'Country']\n",
        "min_OON_2022 = gdp_df.loc[gdp_df['UN'].idxmin(), 'Country']\n",
        "\n",
        "print(f\"Найвищий MVF_2024 у країни: {max_MVF_2024}, найнижчий у країни: {min_MVF_2024}\")\n",
        "print(f\"Найвищий WorldBank_2023 у країни: {max_WB_2023}, найнижчий у країни: {min_WB_2023}\")\n",
        "print(f\"Найвищий OON_2022 у країни: {max_OON_2022}, найнижчий у країни: {min_OON_2022}\")"
      ],
      "metadata": {
        "colab": {
          "base_uri": "https://localhost:8080/"
        },
        "id": "2SWZl_WOESa_",
        "outputId": "89a88618-9ccf-493c-a94c-a2ec2674cb30"
      },
      "execution_count": null,
      "outputs": [
        {
          "output_type": "stream",
          "name": "stdout",
          "text": [
            "Найвищий MVF_2024 у країни: World, найнижчий у країни: Tuvalu\n",
            "Найвищий WorldBank_2023 у країни: World, найнижчий у країни: Tuvalu\n",
            "Найвищий OON_2022 у країни: World, найнижчий у країни: Tuvalu\n"
          ]
        }
      ]
    },
    {
      "cell_type": "markdown",
      "source": [
        ".Побудуйте гістограму для розподілу показників MVF_2024 серед всіх країн. Який вигляд має розподіл? Чи є країни, що виділяються?"
      ],
      "metadata": {
        "id": "gWfKgUMhEfVH"
      }
    },
    {
      "cell_type": "code",
      "source": [
        "\n",
        "import matplotlib.pyplot as plt\n",
        "\n",
        "plt.hist(gdp_df['IMF'].dropna(), bins=20)\n",
        "plt.title('Розподіл показників IMF')\n",
        "plt.xlabel('MVF_2024 (млн. дол. США)')\n",
        "plt.ylabel('Кількість країн')\n",
        "plt.show()"
      ],
      "metadata": {
        "colab": {
          "base_uri": "https://localhost:8080/",
          "height": 472
        },
        "id": "PFzcl2k3EiDX",
        "outputId": "75b44f43-15ad-48b4-82a3-9e1dbef7a955"
      },
      "execution_count": null,
      "outputs": [
        {
          "output_type": "display_data",
          "data": {
            "text/plain": [
              "<Figure size 640x480 with 1 Axes>"
            ],
            "image/png": "[encoded data removed]"
          },
          "metadata": {}
        }
      ]
    },
    {
      "cell_type": "markdown",
      "source": [
        "Розрахуйте частку кожної країни в загальному значенні для кожного року (MVF_2024, WorldBank_2023, OON_2022). Як змінюються частки країн з часом (дати відповідь)?"
      ],
      "metadata": {
        "id": "es13LTBEGt9f"
      }
    },
    {
      "cell_type": "code",
      "source": [
        "gdp_df['Share_IMF'] = gdp_df['IMF'] / gdp_df['IMF'].sum()\n",
        "gdp_df['Share_WB'] = gdp_df['World Bank'] / gdp_df['World Bank'].sum()\n",
        "gdp_df['Share_UN'] = gdp_df['UN'] / gdp_df['UN'].sum()\n",
        "\n",
        "print(\"Частки країн за роками:\\n\", gdp_df[['Country', 'Share_IMF', 'Share_WB', 'Share_UN']])"
      ],
      "metadata": {
        "colab": {
          "base_uri": "https://localhost:8080/"
        },
        "id": "9uGnu6SuGvXk",
        "outputId": "1cb56b12-aae0-4e51-d8d6-e27e091dc205"
      },
      "execution_count": null,
      "outputs": [
        {
          "output_type": "stream",
          "name": "stdout",
          "text": [
            "Частки країн за роками:\n",
            "               Country     Share_IMF      Share_WB      Share_UN\n",
            "0               World  4.643473e-01  4.840638e-01  4.995119e-01\n",
            "1       United States  1.220169e-01  1.256165e-01  1.275302e-01\n",
            "2               China  7.856878e-02  8.169741e-02  8.898532e-02\n",
            "3             Germany  1.946389e-02  2.045826e-02  2.019612e-02\n",
            "4               Japan  1.742619e-02  1.934200e-02  2.096519e-02\n",
            "..                ...           ...           ...           ...\n",
            "205          Kiribati  1.318479e-06  1.280914e-06  1.104690e-06\n",
            "206             Palau  1.305761e-06  1.207456e-06  1.114597e-06\n",
            "207  Marshall Islands  1.293042e-06  1.303869e-06  1.382100e-06\n",
            "208             Nauru  6.825568e-07  7.070275e-07  7.282034e-07\n",
            "209            Tuvalu  2.798059e-07  2.846475e-07  2.922721e-07\n",
            "\n",
            "[210 rows x 4 columns]\n"
          ]
        }
      ]
    },
    {
      "cell_type": "markdown",
      "source": [
        "Візуалізуйте зміни в показниках для кожної країни за три роки на графіку. Які країни показують стабільне зростання або спад (дати відповідь)?"
      ],
      "metadata": {
        "id": "SiSVwbjuI1st"
      }
    },
    {
      "cell_type": "code",
      "source": [
        "gdp_df.set_index('Country')[['IMF', 'World Bank', 'UN']].plot(kind='line', figsize=(10, 6))\n",
        "plt.title('Зміни показників за три роки')\n",
        "plt.ylabel('ВВП (млн. дол. США)')\n",
        "plt.xlabel('Країни')\n",
        "plt.xticks(rotation=90)\n",
        "plt.show()\n"
      ],
      "metadata": {
        "colab": {
          "base_uri": "https://localhost:8080/",
          "height": 608
        },
        "id": "EtKrnS1FI5fE",
        "outputId": "841459fb-2f34-4809-bfaa-bf9503bc4c37"
      },
      "execution_count": null,
      "outputs": [
        {
          "output_type": "display_data",
          "data": {
            "text/plain": [
              "<Figure size 1000x600 with 1 Axes>"
            ],
            "image/png": "[encoded data removed]"
          },
          "metadata": {}
        }
      ]
    },
    {
      "cell_type": "markdown",
      "source": [
        "ДРУГА ЧАСТИНА"
      ],
      "metadata": {
        "id": "2dTzDIh6JtTl"
      }
    },
    {
      "cell_type": "code",
      "source": [
        "from google.colab import drive\n",
        "drive.mount('/content/drive')\n",
        "\n",
        "\n",
        "\n",
        "# Прочитайте csv файл\n",
        "file_path = '/content/drive/My Drive/titanic.csv'\n",
        "\n",
        "df = pd.read_csv(file_path)\n",
        "\n",
        "# Виведіть перші п'ять рядків\n",
        "print(df.head())"
      ],
      "metadata": {
        "colab": {
          "base_uri": "https://localhost:8080/"
        },
        "id": "zuskDaG9KCjV",
        "outputId": "c990c053-8399-48ad-fd75-044a9236a18e"
      },
      "execution_count": null,
      "outputs": [
        {
          "output_type": "stream",
          "name": "stdout",
          "text": [
            "Mounted at /content/drive\n",
            "   PassengerId  Survived  Pclass  \\\n",
            "0          892         0       3   \n",
            "1          893         1       3   \n",
            "2          894         0       2   \n",
            "3          895         0       3   \n",
            "4          896         1       3   \n",
            "\n",
            "                                           Name     Sex   Age  SibSp  Parch  \\\n",
            "0                              Kelly, Mr. James    male  34.5      0      0   \n",
            "1              Wilkes, Mrs. James (Ellen Needs)  female  47.0      1      0   \n",
            "2                     Myles, Mr. Thomas Francis    male  62.0      0      0   \n",
            "3                              Wirz, Mr. Albert    male  27.0      0      0   \n",
            "4  Hirvonen, Mrs. Alexander (Helga E Lindqvist)  female  22.0      1      1   \n",
            "\n",
            "    Ticket     Fare Cabin Embarked  \n",
            "0   330911   7.8292   NaN        Q  \n",
            "1   363272   7.0000   NaN        S  \n",
            "2   240276   9.6875   NaN        Q  \n",
            "3   315154   8.6625   NaN        S  \n",
            "4  3101298  12.2875   NaN        S  \n"
          ]
        }
      ]
    },
    {
      "cell_type": "markdown",
      "source": [
        "визначити розмірр датасета\n",
        "\n",
        "\n"
      ],
      "metadata": {
        "id": "emat2LYrLC0Y"
      }
    },
    {
      "cell_type": "code",
      "source": [
        "df.shape"
      ],
      "metadata": {
        "colab": {
          "base_uri": "https://localhost:8080/"
        },
        "id": "UQFyl8BtLE-_",
        "outputId": "977dbca6-80de-41d4-b848-1aa772c3aa67"
      },
      "execution_count": null,
      "outputs": [
        {
          "output_type": "execute_result",
          "data": {
            "text/plain": [
              "(418, 12)"
            ]
          },
          "metadata": {},
          "execution_count": 76
        }
      ]
    },
    {
      "cell_type": "markdown",
      "source": [
        "Визначити типи даних"
      ],
      "metadata": {
        "id": "1dbTngP9M2u4"
      }
    },
    {
      "cell_type": "code",
      "source": [
        "print(df.dtypes)"
      ],
      "metadata": {
        "colab": {
          "base_uri": "https://localhost:8080/"
        },
        "id": "X6-ZCNnyM4oD",
        "outputId": "28536cec-f6b0-4bba-80a9-bdbca9f18bf5"
      },
      "execution_count": null,
      "outputs": [
        {
          "output_type": "stream",
          "name": "stdout",
          "text": [
            "PassengerId      int64\n",
            "Survived         int64\n",
            "Pclass           int64\n",
            "Name            object\n",
            "Sex             object\n",
            "Age            float64\n",
            "SibSp            int64\n",
            "Parch            int64\n",
            "Ticket          object\n",
            "Fare           float64\n",
            "Cabin           object\n",
            "Embarked        object\n",
            "dtype: object\n"
          ]
        }
      ]
    },
    {
      "cell_type": "markdown",
      "source": [
        "Визначити наявність пропущених значень. При наявності, замінити пропущені значення на середнє значення."
      ],
      "metadata": {
        "id": "Qm28DPUDM79I"
      }
    },
    {
      "cell_type": "code",
      "source": [
        "print(df.isnull().sum())"
      ],
      "metadata": {
        "colab": {
          "base_uri": "https://localhost:8080/"
        },
        "id": "mOHX5LLpM8px",
        "outputId": "8ec9c829-1c9a-453e-c837-0bcec042a5ec"
      },
      "execution_count": null,
      "outputs": [
        {
          "output_type": "stream",
          "name": "stdout",
          "text": [
            "PassengerId      0\n",
            "Survived         0\n",
            "Pclass           0\n",
            "Name             0\n",
            "Sex              0\n",
            "Age             86\n",
            "SibSp            0\n",
            "Parch            0\n",
            "Ticket           0\n",
            "Fare             1\n",
            "Cabin          327\n",
            "Embarked         0\n",
            "dtype: int64\n"
          ]
        }
      ]
    },
    {
      "cell_type": "code",
      "source": [
        "\n",
        "df['Age'].fillna(df['Age'].mean(), inplace=True)\n",
        "df['Fare'].fillna(df['Fare'].mean(), inplace=True)"
      ],
      "metadata": {
        "id": "wMDSCqpDNE28"
      },
      "execution_count": null,
      "outputs": []
    },
    {
      "cell_type": "code",
      "source": [
        "print(df.head())"
      ],
      "metadata": {
        "colab": {
          "base_uri": "https://localhost:8080/"
        },
        "id": "62fAd63KNMiT",
        "outputId": "561662ba-e08c-4f69-8f61-d75098855228"
      },
      "execution_count": null,
      "outputs": [
        {
          "output_type": "stream",
          "name": "stdout",
          "text": [
            "   PassengerId  Survived  Pclass  \\\n",
            "0          892         0       3   \n",
            "1          893         1       3   \n",
            "2          894         0       2   \n",
            "3          895         0       3   \n",
            "4          896         1       3   \n",
            "\n",
            "                                           Name     Sex   Age  SibSp  Parch  \\\n",
            "0                              Kelly, Mr. James    male  34.5      0      0   \n",
            "1              Wilkes, Mrs. James (Ellen Needs)  female  47.0      1      0   \n",
            "2                     Myles, Mr. Thomas Francis    male  62.0      0      0   \n",
            "3                              Wirz, Mr. Albert    male  27.0      0      0   \n",
            "4  Hirvonen, Mrs. Alexander (Helga E Lindqvist)  female  22.0      1      1   \n",
            "\n",
            "    Ticket     Fare Cabin Embarked  \n",
            "0   330911   7.8292   NaN        Q  \n",
            "1   363272   7.0000   NaN        S  \n",
            "2   240276   9.6875   NaN        Q  \n",
            "3   315154   8.6625   NaN        S  \n",
            "4  3101298  12.2875   NaN        S  \n"
          ]
        }
      ]
    },
    {
      "cell_type": "markdown",
      "source": [
        "Ще раз перевірити наявність пропущених значень."
      ],
      "metadata": {
        "id": "-FERfSWjNHv8"
      }
    },
    {
      "cell_type": "code",
      "source": [
        "\n",
        "print(df.isnull().sum())\n"
      ],
      "metadata": {
        "colab": {
          "base_uri": "https://localhost:8080/"
        },
        "id": "0uafRmWqNIsZ",
        "outputId": "5e9fbc33-8d3a-4a82-cc6f-efddc3c27406"
      },
      "execution_count": null,
      "outputs": [
        {
          "output_type": "stream",
          "name": "stdout",
          "text": [
            "PassengerId      0\n",
            "Survived         0\n",
            "Pclass           0\n",
            "Name             0\n",
            "Sex              0\n",
            "Age              0\n",
            "SibSp            0\n",
            "Parch            0\n",
            "Ticket           0\n",
            "Fare             0\n",
            "Cabin          327\n",
            "Embarked         0\n",
            "dtype: int64\n"
          ]
        }
      ]
    },
    {
      "cell_type": "markdown",
      "source": [
        "Перевірити наявність дублікатів. При наявності видалити дублікати."
      ],
      "metadata": {
        "id": "hmHtPQ4FNTS8"
      }
    },
    {
      "cell_type": "code",
      "source": [
        "duplicates = df.duplicated().sum()\n",
        "print(f\"Кількість дублікатів: {duplicates}\")\n",
        "\n",
        "if duplicates > 0:\n",
        "    df.drop_duplicates(inplace=True)"
      ],
      "metadata": {
        "colab": {
          "base_uri": "https://localhost:8080/"
        },
        "id": "m2vPHrjONUEo",
        "outputId": "c8cf32b4-3426-4997-8852-d6e00caab69e"
      },
      "execution_count": null,
      "outputs": [
        {
          "output_type": "stream",
          "name": "stdout",
          "text": [
            "Кількість дублікатів: 0\n"
          ]
        }
      ]
    },
    {
      "cell_type": "markdown",
      "source": [
        "Вивести описову статистику датасету describe()"
      ],
      "metadata": {
        "id": "Ee5cl5RaNdDn"
      }
    },
    {
      "cell_type": "code",
      "source": [
        "\n",
        "print(df.describe())\n"
      ],
      "metadata": {
        "colab": {
          "base_uri": "https://localhost:8080/"
        },
        "id": "9TJaPTIUNdtY",
        "outputId": "ca730d0a-604e-4fa1-ba6e-71f7f6162c51"
      },
      "execution_count": null,
      "outputs": [
        {
          "output_type": "stream",
          "name": "stdout",
          "text": [
            "       PassengerId    Survived      Pclass         Age       SibSp  \\\n",
            "count   418.000000  418.000000  418.000000  418.000000  418.000000   \n",
            "mean   1100.500000    0.363636    2.265550   30.272590    0.447368   \n",
            "std     120.810458    0.481622    0.841838   12.634534    0.896760   \n",
            "min     892.000000    0.000000    1.000000    0.170000    0.000000   \n",
            "25%     996.250000    0.000000    1.000000   23.000000    0.000000   \n",
            "50%    1100.500000    0.000000    3.000000   30.272590    0.000000   \n",
            "75%    1204.750000    1.000000    3.000000   35.750000    1.000000   \n",
            "max    1309.000000    1.000000    3.000000   76.000000    8.000000   \n",
            "\n",
            "            Parch        Fare  \n",
            "count  418.000000  418.000000  \n",
            "mean     0.392344   35.627188  \n",
            "std      0.981429   55.840500  \n",
            "min      0.000000    0.000000  \n",
            "25%      0.000000    7.895800  \n",
            "50%      0.000000   14.454200  \n",
            "75%      0.000000   31.500000  \n",
            "max      9.000000  512.329200  \n"
          ]
        }
      ]
    },
    {
      "cell_type": "markdown",
      "source": [
        "Видалити стовпчик Cabin"
      ],
      "metadata": {
        "id": "dkBHPci1NtoT"
      }
    },
    {
      "cell_type": "code",
      "source": [
        "df.drop('Cabin', axis=1, inplace=True)"
      ],
      "metadata": {
        "id": "zWP7xGRfNyD6"
      },
      "execution_count": null,
      "outputs": []
    },
    {
      "cell_type": "code",
      "source": [
        "\n",
        "print(df.head())"
      ],
      "metadata": {
        "colab": {
          "base_uri": "https://localhost:8080/"
        },
        "id": "2f1qqiHlN1d4",
        "outputId": "7e63b12b-9c95-41f4-db65-83e9d24a77b9"
      },
      "execution_count": null,
      "outputs": [
        {
          "output_type": "stream",
          "name": "stdout",
          "text": [
            "   PassengerId  Survived  Pclass  \\\n",
            "0          892         0       3   \n",
            "1          893         1       3   \n",
            "2          894         0       2   \n",
            "3          895         0       3   \n",
            "4          896         1       3   \n",
            "\n",
            "                                           Name     Sex   Age  SibSp  Parch  \\\n",
            "0                              Kelly, Mr. James    male  34.5      0      0   \n",
            "1              Wilkes, Mrs. James (Ellen Needs)  female  47.0      1      0   \n",
            "2                     Myles, Mr. Thomas Francis    male  62.0      0      0   \n",
            "3                              Wirz, Mr. Albert    male  27.0      0      0   \n",
            "4  Hirvonen, Mrs. Alexander (Helga E Lindqvist)  female  22.0      1      1   \n",
            "\n",
            "    Ticket     Fare Embarked  \n",
            "0   330911   7.8292        Q  \n",
            "1   363272   7.0000        S  \n",
            "2   240276   9.6875        Q  \n",
            "3   315154   8.6625        S  \n",
            "4  3101298  12.2875        S  \n"
          ]
        }
      ]
    },
    {
      "cell_type": "markdown",
      "source": [
        "Сформувати датасет з обраними стовпцями: ['Survived', 'Pclass', 'Sex', 'Age', 'Fare']]"
      ],
      "metadata": {
        "id": "SxndOOdwN5Eo"
      }
    },
    {
      "cell_type": "code",
      "source": [
        "selected_columns = ['Survived', 'Pclass', 'Sex', 'Age', 'Fare']\n",
        "df = df[selected_columns]\n",
        "print(df.head())"
      ],
      "metadata": {
        "colab": {
          "base_uri": "https://localhost:8080/"
        },
        "id": "2NOywvqiN6FQ",
        "outputId": "0f2f97dc-1850-404d-b960-c166e11f80f7"
      },
      "execution_count": null,
      "outputs": [
        {
          "output_type": "stream",
          "name": "stdout",
          "text": [
            "   Survived  Pclass     Sex   Age     Fare\n",
            "0         0       3    male  34.5   7.8292\n",
            "1         1       3  female  47.0   7.0000\n",
            "2         0       2    male  62.0   9.6875\n",
            "3         0       3    male  27.0   8.6625\n",
            "4         1       3  female  22.0  12.2875\n"
          ]
        }
      ]
    },
    {
      "cell_type": "markdown",
      "source": [
        "Замінити бінарні ознаки (Стать) на 0 і 1 (але перевірте унікальні значення даного стовпчика)."
      ],
      "metadata": {
        "id": "HEq48MHQOX9I"
      }
    },
    {
      "cell_type": "code",
      "source": [
        "print(df['Sex'].unique())"
      ],
      "metadata": {
        "colab": {
          "base_uri": "https://localhost:8080/"
        },
        "id": "ShFoylgZOaMK",
        "outputId": "ada94be8-50e7-4eac-e69d-901fd851f8b9"
      },
      "execution_count": null,
      "outputs": [
        {
          "output_type": "stream",
          "name": "stdout",
          "text": [
            "['male' 'female']\n"
          ]
        }
      ]
    },
    {
      "cell_type": "code",
      "source": [
        "\n",
        "df['Sex'] = df['Sex'].replace({'female': 1, 'male': 0}).astype(int)\n",
        "print(df.head())\n"
      ],
      "metadata": {
        "colab": {
          "base_uri": "https://localhost:8080/"
        },
        "id": "2spvzxybOdwV",
        "outputId": "2bfbe258-a200-4144-c149-8a596e8e4fbf"
      },
      "execution_count": null,
      "outputs": [
        {
          "output_type": "stream",
          "name": "stdout",
          "text": [
            "   Survived  Pclass  Sex   Age     Fare\n",
            "0         0       3    0  34.5   7.8292\n",
            "1         1       3    1  47.0   7.0000\n",
            "2         0       2    0  62.0   9.6875\n",
            "3         0       3    0  27.0   8.6625\n",
            "4         1       3    1  22.0  12.2875\n"
          ]
        }
      ]
    },
    {
      "cell_type": "markdown",
      "source": [
        "Ще раз перевірити кількість пропущених даних (впевнитись, що їх немає)."
      ],
      "metadata": {
        "id": "PMtQFIMMOiWq"
      }
    },
    {
      "cell_type": "code",
      "source": [
        "print(df.isnull().sum())"
      ],
      "metadata": {
        "colab": {
          "base_uri": "https://localhost:8080/"
        },
        "id": "TThkYqAQOjST",
        "outputId": "f074a6a2-74a0-49c9-a735-6c4c917d5c94"
      },
      "execution_count": null,
      "outputs": [
        {
          "output_type": "stream",
          "name": "stdout",
          "text": [
            "Survived    0\n",
            "Pclass      0\n",
            "Sex         0\n",
            "Age         0\n",
            "Fare        0\n",
            "dtype: int64\n"
          ]
        }
      ]
    },
    {
      "cell_type": "markdown",
      "source": [
        "Вивести 5 перших рядків датасету."
      ],
      "metadata": {
        "id": "Qt-XONbNOmvi"
      }
    },
    {
      "cell_type": "code",
      "source": [
        "\n",
        "print(df.head())"
      ],
      "metadata": {
        "colab": {
          "base_uri": "https://localhost:8080/"
        },
        "id": "D_QmDxOeOnl-",
        "outputId": "8891296f-ea58-465f-f58c-f75cc0055006"
      },
      "execution_count": null,
      "outputs": [
        {
          "output_type": "stream",
          "name": "stdout",
          "text": [
            "   Survived  Pclass  Sex   Age     Fare\n",
            "0         0       3    0  34.5   7.8292\n",
            "1         1       3    1  47.0   7.0000\n",
            "2         0       2    0  62.0   9.6875\n",
            "3         0       3    0  27.0   8.6625\n",
            "4         1       3    1  22.0  12.2875\n"
          ]
        }
      ]
    },
    {
      "cell_type": "markdown",
      "source": [
        "Вивести 5 останніх рядків датасету."
      ],
      "metadata": {
        "id": "eXTOD91jOvxl"
      }
    },
    {
      "cell_type": "code",
      "source": [
        "print(df.tail())"
      ],
      "metadata": {
        "colab": {
          "base_uri": "https://localhost:8080/"
        },
        "id": "nK8NUV-0OwfZ",
        "outputId": "32a28eed-50b5-4b86-89b4-74def0791217"
      },
      "execution_count": null,
      "outputs": [
        {
          "output_type": "stream",
          "name": "stdout",
          "text": [
            "     Survived  Pclass  Sex       Age      Fare\n",
            "413         0       3    0  30.27259    8.0500\n",
            "414         1       1    1  39.00000  108.9000\n",
            "415         0       3    0  38.50000    7.2500\n",
            "416         0       3    0  30.27259    8.0500\n",
            "417         0       3    0  30.27259   22.3583\n"
          ]
        }
      ]
    },
    {
      "cell_type": "markdown",
      "source": [
        "Аналіз виживання залежно від статі: Обчисліть відсоток виживання для кожної статі. Чи була різниця у виживанні між чоловіками та жінками?"
      ],
      "metadata": {
        "id": "goA_6VtuO2MB"
      }
    },
    {
      "cell_type": "code",
      "source": [
        "survival_by_sex = df.groupby('Sex')['Survived'].mean() * 100\n",
        "print(\"Відсоток виживання за статтю:\\n\", survival_by_sex)"
      ],
      "metadata": {
        "colab": {
          "base_uri": "https://localhost:8080/"
        },
        "id": "Vn_1IVO9O2-3",
        "outputId": "0996fde1-5326-4bd6-c7d8-efa037ff5488"
      },
      "execution_count": null,
      "outputs": [
        {
          "output_type": "stream",
          "name": "stdout",
          "text": [
            "Відсоток виживання за статтю:\n",
            " Sex\n",
            "0      0.0\n",
            "1    100.0\n",
            "Name: Survived, dtype: float64\n"
          ]
        }
      ]
    },
    {
      "cell_type": "markdown",
      "source": [
        "Обчисліть відсоток виживання для кожного класу (Pclass). Який клас мав найвищий рівень виживання (дати відповідь)?"
      ],
      "metadata": {
        "id": "ao9gkayXO82p"
      }
    },
    {
      "cell_type": "code",
      "source": [
        "survival_by_class = df.groupby('Pclass')['Survived'].mean() * 100\n",
        "print(\"Відсоток виживання за класом:\\n\", survival_by_class)"
      ],
      "metadata": {
        "colab": {
          "base_uri": "https://localhost:8080/"
        },
        "id": "Qhw99033O-Ks",
        "outputId": "53042229-0287-499c-82e2-d1ac03ef7a10"
      },
      "execution_count": null,
      "outputs": [
        {
          "output_type": "stream",
          "name": "stdout",
          "text": [
            "Відсоток виживання за класом:\n",
            " Pclass\n",
            "1    46.728972\n",
            "2    32.258065\n",
            "3    33.027523\n",
            "Name: Survived, dtype: float64\n"
          ]
        }
      ]
    },
    {
      "cell_type": "markdown",
      "source": [
        "Визначте середній вік тих, хто вижив, і тих, хто не вижив. Чи впливає вік на виживання (дати відповідь)?"
      ],
      "metadata": {
        "id": "JmkwR86KPDYN"
      }
    },
    {
      "cell_type": "code",
      "source": [
        "mean_age_by_survival = df.groupby('Survived')['Age'].mean()\n",
        "print(\"Середній вік за статусом виживання:\\n\", mean_age_by_survival)"
      ],
      "metadata": {
        "colab": {
          "base_uri": "https://localhost:8080/"
        },
        "id": "_yKMGEnjPc31",
        "outputId": "a5ce9079-a7ba-4279-e127-f2809715daad"
      },
      "execution_count": null,
      "outputs": [
        {
          "output_type": "stream",
          "name": "stdout",
          "text": [
            "Середній вік за статусом виживання:\n",
            " Survived\n",
            "0    30.272699\n",
            "1    30.272400\n",
            "Name: Age, dtype: float64\n"
          ]
        }
      ]
    },
    {
      "cell_type": "markdown",
      "source": [
        "Розподіліть пасажирів на групи за рівнями тарифів (Fare) і обчисліть рівень виживання для кожної групи. Як тариф впливав на шанси виживання (дати відповідь)?"
      ],
      "metadata": {
        "id": "sgxc5bL-PhcV"
      }
    },
    {
      "cell_type": "code",
      "source": [
        "df['Fare_Group'] = pd.qcut(df['Fare'], 4, labels=False)\n",
        "survival_by_fare_group = df.groupby('Fare_Group')['Survived'].mean() * 100\n",
        "print(\"Відсоток виживання за групами тарифів:\\n\", survival_by_fare_group)"
      ],
      "metadata": {
        "colab": {
          "base_uri": "https://localhost:8080/"
        },
        "id": "oOSxp6kzPiWJ",
        "outputId": "f212e814-9e00-45c6-94dd-7497b154d3be"
      },
      "execution_count": null,
      "outputs": [
        {
          "output_type": "stream",
          "name": "stdout",
          "text": [
            "Відсоток виживання за групами тарифів:\n",
            " Fare_Group\n",
            "0    26.315789\n",
            "1    27.083333\n",
            "2    39.047619\n",
            "3    53.398058\n",
            "Name: Survived, dtype: float64\n"
          ]
        }
      ]
    },
    {
      "cell_type": "markdown",
      "source": [
        "Аналіз класу та тарифу: Визначте середній тариф (Fare) для кожного класу (Pclass). Чи існує значна різниця у тарифах між класами (дати відповідь)?"
      ],
      "metadata": {
        "id": "1XEv3XHRPnY9"
      }
    },
    {
      "cell_type": "code",
      "source": [
        "mean_fare_by_class = df.groupby('Pclass')['Fare'].mean()\n",
        "print(\"Середній тариф за класом:\\n\", mean_fare_by_class)"
      ],
      "metadata": {
        "colab": {
          "base_uri": "https://localhost:8080/"
        },
        "id": "MtdqzcwvPoOS",
        "outputId": "ed31cf9a-5308-45c2-b0ba-218a9023bdae"
      },
      "execution_count": null,
      "outputs": [
        {
          "output_type": "stream",
          "name": "stdout",
          "text": [
            "Середній тариф за класом:\n",
            " Pclass\n",
            "1    94.280297\n",
            "2    22.202104\n",
            "3    12.565951\n",
            "Name: Fare, dtype: float64\n"
          ]
        }
      ]
    },
    {
      "cell_type": "markdown",
      "source": [
        "Обчисліть середній вік пасажирів для кожного класу (Pclass). Як вік пасажирів розподіляється за класами (дати відповідь)?"
      ],
      "metadata": {
        "id": "cqz4tcZQPxpE"
      }
    },
    {
      "cell_type": "code",
      "source": [
        "mean_age_by_class = df.groupby('Pclass')['Age'].mean()\n",
        "print(\"Середній вік за класом:\\n\", mean_age_by_class)"
      ],
      "metadata": {
        "colab": {
          "base_uri": "https://localhost:8080/"
        },
        "id": "H8liTCvCPycR",
        "outputId": "bcb0fecc-d021-4022-9f8f-ef4ca4c0a5ea"
      },
      "execution_count": null,
      "outputs": [
        {
          "output_type": "stream",
          "name": "stdout",
          "text": [
            "Середній вік за класом:\n",
            " Pclass\n",
            "1    40.022928\n",
            "2    28.857881\n",
            "3    26.090397\n",
            "Name: Age, dtype: float64\n"
          ]
        }
      ]
    },
    {
      "cell_type": "markdown",
      "source": [
        "Побудуйте гістограму розподілу віку для тих, хто вижив, і тих, хто не вижив. Чи є видимі відмінності у вікових групах (дати відповідь)?"
      ],
      "metadata": {
        "id": "unKl-R6sP461"
      }
    },
    {
      "cell_type": "code",
      "source": [
        "# divide passengers into survivoures and deceased\n",
        "survived = df[df['Survived'] == 1]['Age']\n",
        "not_survived = df[df['Survived'] == 0]['Age']\n",
        "\n",
        "# create plot\n",
        "plt.figure(figsize=(10, 6))\n",
        "plt.hist([survived, not_survived], bins=20, label=['Survived', 'Not Survived'], color=['green', 'red'], alpha=0.7)\n",
        "plt.title('Age Distribution: Survived vs Not Survived')\n",
        "plt.xlabel('Age')\n",
        "plt.ylabel('Frequency')\n",
        "plt.legend()\n",
        "plt.show()\n"
      ],
      "metadata": {
        "colab": {
          "base_uri": "https://localhost:8080/",
          "height": 564
        },
        "id": "hr-ZwImqP8Ec",
        "outputId": "735fe1f3-7cac-4a7a-9246-05973ae78e83"
      },
      "execution_count": null,
      "outputs": [
        {
          "output_type": "display_data",
          "data": {
            "text/plain": [
              "<Figure size 1000x600 with 1 Axes>"
            ],
            "image/png": "[encoded data removed]"
          },
          "metadata": {}
        }
      ]
    },
    {
      "cell_type": "markdown",
      "source": [
        "Обчисліть відсоток виживання для кожної комбінації статі та класу (наприклад, жінки в 1-му класі, чоловіки в 3-му класі). Яка група мала найвищий рівень виживання (дати відповідь)?"
      ],
      "metadata": {
        "id": "wPK7aWFjQzZz"
      }
    },
    {
      "cell_type": "code",
      "source": [
        "survival_rate = df.groupby(['Sex', 'Pclass'])['Survived'].mean() * 100\n",
        "\n",
        "print(survival_rate)"
      ],
      "metadata": {
        "colab": {
          "base_uri": "https://localhost:8080/"
        },
        "id": "qUhCCVLPQ0Wl",
        "outputId": "2aed8073-dcfa-4c0e-ad6c-58fdd1e544a5"
      },
      "execution_count": null,
      "outputs": [
        {
          "output_type": "stream",
          "name": "stdout",
          "text": [
            "Sex  Pclass\n",
            "0    1           0.0\n",
            "     2           0.0\n",
            "     3           0.0\n",
            "1    1         100.0\n",
            "     2         100.0\n",
            "     3         100.0\n",
            "Name: Survived, dtype: float64\n"
          ]
        }
      ]
    },
    {
      "cell_type": "markdown",
      "source": [
        "Обчисліть кореляцію між усіма числовими змінними (Survived, Pclass, Age, Fare). Які змінні найбільш сильно корелюють з виживанням (дати відповідь)?"
      ],
      "metadata": {
        "id": "ie38UlHiQ6Hg"
      }
    },
    {
      "cell_type": "code",
      "source": [
        "correlation_matrix = df[['Survived', 'Pclass', 'Age', 'Fare']].corr()\n",
        "\n",
        "print(correlation_matrix)\n",
        "\n",
        "import seaborn as sns\n",
        "\n",
        "plt.figure(figsize=(8, 6))\n",
        "sns.heatmap(correlation_matrix, annot=True, cmap='coolwarm', linewidths=0.5)\n",
        "plt.title('Correlation Matrix')\n",
        "plt.show()"
      ],
      "metadata": {
        "colab": {
          "base_uri": "https://localhost:8080/",
          "height": 632
        },
        "id": "laRgX2RYQ67E",
        "outputId": "edf0b39c-a247-4219-aff6-a5155ba74a19"
      },
      "execution_count": null,
      "outputs": [
        {
          "output_type": "stream",
          "name": "stdout",
          "text": [
            "          Survived    Pclass       Age      Fare\n",
            "Survived  1.000000 -0.108615 -0.000011  0.191382\n",
            "Pclass   -0.108615  1.000000 -0.440782 -0.576619\n",
            "Age      -0.000011 -0.440782  1.000000  0.326800\n",
            "Fare      0.191382 -0.576619  0.326800  1.000000\n"
          ]
        },
        {
          "output_type": "display_data",
          "data": {
            "text/plain": [
              "<Figure size 800x600 with 2 Axes>"
            ],
            "image/png": "[encoded data removed]"
          },
          "metadata": {}
        }
      ]
    },
    {
      "cell_type": "markdown",
      "source": [
        "Висновок: Результати аналізу показують, що пасажири з вищими тарифами мали кращі шанси на виживання. Більшість тих, хто вижив, становили жінки, тоді як чоловіки майже не були серед виживших. Це може вказувати на те, що під час рятувальних операцій жінкам надавали перевагу."
      ],
      "metadata": {
        "id": "e9vHtey9RGu7"
      }
    }
  ]
}